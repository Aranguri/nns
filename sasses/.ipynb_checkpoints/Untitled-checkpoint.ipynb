{
 "cells": [
  {
   "cell_type": "markdown",
   "metadata": {},
   "source": [
    "#### Next steps\n",
    "* Finish task. Extract every five-word sentence from shakespeare.txt and for each one of those, generate one wrong case. \n",
    "* Look for / code a NN that works\n",
    "* Measure my performance on the task\n",
    "\n",
    "#### Goal\n",
    "I want something that has modules. The modules get trained in an unsupervised way, and then we use those modules for interesting tasks such as answering a question.\n",
    "\n",
    "#### Training\n",
    "1) Measure distance between documents\n",
    "2) Predict next word\n",
    "3) Start with a five word sentence. Half of the cases have the third word changed, half remain the same. \n",
    "\n",
    "#### Test\n",
    "1) Encode the question in a vector and use a RNN that receives that vector and outputs the answer to the question.\n",
    "\n",
    "#### Future\n",
    "* Allow an increasingly bigger vocabulary: create a module emb such that emb: v -> w. Then let's define emb-1: w -> v. In matrix form $E(v) = Tv = w.$ $v = T^{-1}W$\n",
    "* use a dictionary instead of a matrix for the embeddings. (if it's more efficient.)\n",
    "* feedback after performing the action\n",
    "* three steps sigmoid\n",
    "* increasingly bigger nets\n",
    "* neuron with multiple activation functions.\n",
    "* something that lives in the internet\n",
    "* memory modules\n",
    "\n"
   ]
  }
 ],
 "metadata": {
  "kernelspec": {
   "display_name": "Python 3",
   "language": "python",
   "name": "python3"
  },
  "language_info": {
   "codemirror_mode": {
    "name": "ipython",
    "version": 3
   },
   "file_extension": ".py",
   "mimetype": "text/x-python",
   "name": "python",
   "nbconvert_exporter": "python",
   "pygments_lexer": "ipython3",
   "version": "3.6.5"
  }
 },
 "nbformat": 4,
 "nbformat_minor": 2
}
